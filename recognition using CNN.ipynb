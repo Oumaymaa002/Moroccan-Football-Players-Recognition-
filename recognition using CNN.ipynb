{
 "cells": [
  {
   "cell_type": "code",
   "execution_count": 6,
   "id": "9758ac79",
   "metadata": {},
   "outputs": [
    {
     "name": "stdout",
     "output_type": "stream",
     "text": [
      "Found 10788 images belonging to 7 classes.\n",
      "Found 0 images belonging to 7 classes.\n"
     ]
    }
   ],
   "source": [
    "from tensorflow.keras.preprocessing.image import ImageDataGenerator\n",
    "\n",
    "# Define the data generator with desired augmentations\n",
    "datagen = ImageDataGenerator(\n",
    "    rescale=1./255,\n",
    "    shear_range=0.2,\n",
    "    zoom_range=0.2,\n",
    "    horizontal_flip=True\n",
    ")\n",
    "\n",
    "# Specify the path to your training data directory\n",
    "train_dir = 'Dataset - Equipe Maroc'\n",
    "\n",
    "# Flow training images in batches\n",
    "train_generator = datagen.flow_from_directory(\n",
    "    train_dir,\n",
    "    target_size=(150, 150),\n",
    "    batch_size=32,\n",
    "    class_mode='categorical',  # Use categorical for one-hot encoded labels\n",
    "    subset='training'\n",
    ")\n",
    "\n",
    "validation_generator = datagen.flow_from_directory(\n",
    "    train_dir,\n",
    "    target_size=(150, 150),\n",
    "    batch_size=32,\n",
    "    class_mode='categorical',\n",
    "    subset='validation'\n",
    ")\n"
   ]
  },
  {
   "cell_type": "code",
   "execution_count": 8,
   "id": "7e0132f9",
   "metadata": {},
   "outputs": [
    {
     "name": "stdout",
     "output_type": "stream",
     "text": [
      "Epoch 1/10\n",
      "211/338 [=================>............] - ETA: 38s - loss: 1.4741 - accuracy: 0.4360"
     ]
    },
    {
     "name": "stderr",
     "output_type": "stream",
     "text": [
      "C:\\Users\\oumay\\ML\\sample_project1\\env\\lib\\site-packages\\PIL\\Image.py:996: UserWarning: Palette images with Transparency expressed in bytes should be converted to RGBA images\n",
      "  warnings.warn(\n"
     ]
    },
    {
     "name": "stdout",
     "output_type": "stream",
     "text": [
      "338/338 [==============================] - 104s 303ms/step - loss: 1.2240 - accuracy: 0.5410\n",
      "Epoch 2/10\n",
      "338/338 [==============================] - 102s 303ms/step - loss: 0.4595 - accuracy: 0.8406\n",
      "Epoch 3/10\n",
      "338/338 [==============================] - 101s 299ms/step - loss: 0.2626 - accuracy: 0.9081\n",
      "Epoch 4/10\n",
      "338/338 [==============================] - 100s 296ms/step - loss: 0.2000 - accuracy: 0.9353\n",
      "Epoch 5/10\n",
      "338/338 [==============================] - 102s 301ms/step - loss: 0.1507 - accuracy: 0.9499\n",
      "Epoch 6/10\n",
      "338/338 [==============================] - 100s 296ms/step - loss: 0.1202 - accuracy: 0.9598\n",
      "Epoch 7/10\n",
      "338/338 [==============================] - 100s 296ms/step - loss: 0.0994 - accuracy: 0.9672\n",
      "Epoch 8/10\n",
      "338/338 [==============================] - 100s 295ms/step - loss: 0.0826 - accuracy: 0.9722\n",
      "Epoch 9/10\n",
      "338/338 [==============================] - 100s 296ms/step - loss: 0.0909 - accuracy: 0.9691\n",
      "Epoch 10/10\n",
      "338/338 [==============================] - 101s 298ms/step - loss: 0.0775 - accuracy: 0.9726\n"
     ]
    }
   ],
   "source": [
    "from tensorflow.keras.models import Sequential\n",
    "from tensorflow.keras.layers import Conv2D, MaxPooling2D, Flatten, Dense\n",
    "from tensorflow.keras.optimizers import Adam\n",
    "\n",
    "# Define the CNN model\n",
    "model = Sequential()\n",
    "\n",
    "model.add(Conv2D(32, (3, 3), activation='relu', input_shape=(150, 150, 3)))\n",
    "model.add(MaxPooling2D((2, 2)))\n",
    "\n",
    "model.add(Conv2D(64, (3, 3), activation='relu'))\n",
    "model.add(MaxPooling2D((2, 2)))\n",
    "\n",
    "model.add(Conv2D(128, (3, 3), activation='relu'))\n",
    "model.add(MaxPooling2D((2, 2)))\n",
    "\n",
    "model.add(Flatten())\n",
    "model.add(Dense(512, activation='relu'))\n",
    "model.add(Dense(7, activation='softmax'))  # Update to match the number of classes in your dataset\n",
    "\n",
    "# Compile the model\n",
    "model.compile(optimizer=Adam(learning_rate=0.001), loss='categorical_crossentropy', metrics=['accuracy'])\n",
    "\n",
    "# Train the model using the generators\n",
    "history = model.fit(train_generator, epochs=10, validation_data=validation_generator)\n"
   ]
  },
  {
   "cell_type": "code",
   "execution_count": 9,
   "id": "b4b6771f",
   "metadata": {},
   "outputs": [
    {
     "name": "stderr",
     "output_type": "stream",
     "text": [
      "C:\\Users\\oumay\\ML\\sample_project1\\env\\lib\\site-packages\\keras\\src\\engine\\training.py:3103: UserWarning: You are saving your model as an HDF5 file via `model.save()`. This file format is considered legacy. We recommend using instead the native Keras format, e.g. `model.save('my_model.keras')`.\n",
      "  saving_api.save_model(\n"
     ]
    }
   ],
   "source": [
    "model.save('fb_players_model.h5')\n"
   ]
  },
  {
   "cell_type": "code",
   "execution_count": 5,
   "id": "f83780ff",
   "metadata": {},
   "outputs": [
    {
     "name": "stdout",
     "output_type": "stream",
     "text": [
      "WARNING:tensorflow:5 out of the last 5 calls to <function Model.make_predict_function.<locals>.predict_function at 0x000002452C3041F0> triggered tf.function retracing. Tracing is expensive and the excessive number of tracings could be due to (1) creating @tf.function repeatedly in a loop, (2) passing tensors with different shapes, (3) passing Python objects instead of tensors. For (1), please define your @tf.function outside of the loop. For (2), @tf.function has reduce_retracing=True option that can avoid unnecessary retracing. For (3), please refer to https://www.tensorflow.org/guide/function#controlling_retracing and https://www.tensorflow.org/api_docs/python/tf/function for  more details.\n",
      "1/1 [==============================] - 0s 60ms/step\n",
      "Predicted Class: 4\n"
     ]
    }
   ],
   "source": [
    "import cv2\n",
    "import numpy as np\n",
    "from tensorflow.keras.models import load_model\n",
    "\n",
    "# Load the trained model\n",
    "model = load_model('fb_players_model.h5')  # Replace with the actual path to your saved model\n",
    "\n",
    "# Load and preprocess the image\n",
    "image_path = 'walid-regragui-1.jpg'  # Replace with the path to your image file\n",
    "image = cv2.imread(image_path)\n",
    "image = cv2.resize(image, (150, 150))  # Adjust the size to match your model's input size\n",
    "image = image / 255.0  # Normalize pixel values to [0, 1]\n",
    "image = np.expand_dims(image, axis=0)  # Add an extra dimension to match the model's input shape\n",
    "\n",
    "# Make a prediction\n",
    "predictions = model.predict(image)\n",
    "\n",
    "# Extract the predicted class (assuming categorical output)\n",
    "predicted_class = np.argmax(predictions, axis=1)[0]\n",
    "\n",
    "# Print the predicted class\n",
    "print(f\"Predicted Class: {predicted_class}\")\n"
   ]
  },
  {
   "cell_type": "code",
   "execution_count": null,
   "id": "ba1456b1",
   "metadata": {},
   "outputs": [],
   "source": []
  }
 ],
 "metadata": {
  "kernelspec": {
   "display_name": "Python 3 (ipykernel)",
   "language": "python",
   "name": "python3"
  },
  "language_info": {
   "codemirror_mode": {
    "name": "ipython",
    "version": 3
   },
   "file_extension": ".py",
   "mimetype": "text/x-python",
   "name": "python",
   "nbconvert_exporter": "python",
   "pygments_lexer": "ipython3",
   "version": "3.10.12"
  }
 },
 "nbformat": 4,
 "nbformat_minor": 5
}
